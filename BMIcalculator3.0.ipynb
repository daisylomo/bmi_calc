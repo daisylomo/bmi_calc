{
 "cells": [
  {
   "cell_type": "code",
   "execution_count": 1,
   "id": "60ce4bdb",
   "metadata": {},
   "outputs": [
    {
     "name": "stdout",
     "output_type": "stream",
     "text": [
      "Enter height in m: 1.57\n",
      "Enter weight in kg: 40\n",
      "Your BMI is 16.227838857560144 and you are  underweight\n"
     ]
    }
   ],
   "source": [
    "height = float(input(\"Enter height in m: \"))\n",
    "weight = float(input(\"Enter weight in kg: \"))\n",
    "\n",
    "def BMI(height, weight):\n",
    "    bmi = weight / height ** 2\n",
    "    if bmi < 16:\n",
    "        return bmi,\" severely underweight\"\n",
    "    elif bmi >= 16 and bmi < 18.5:\n",
    "        return bmi,\" underweight\"\n",
    "    elif bmi >= 18.5 and bmi < 25:\n",
    "        return bmi,\" healthy\"\n",
    "    elif bmi >= 25 and bmi < 30:\n",
    "        return bmi,\" overweight\"\n",
    "    elif bmi >= 30:\n",
    "        return bmi,\" obese\"\n",
    "    else:\n",
    "        print(\"Invalid input!\")\n",
    "\n",
    "bmi, quote = BMI(height, weight)\n",
    "print(\"Your BMI is {} and you are {}\".format(bmi, quote))"
   ]
  },
  {
   "cell_type": "code",
   "execution_count": null,
   "id": "3b256fda",
   "metadata": {},
   "outputs": [],
   "source": []
  }
 ],
 "metadata": {
  "kernelspec": {
   "display_name": "Python 3 (ipykernel)",
   "language": "python",
   "name": "python3"
  },
  "language_info": {
   "codemirror_mode": {
    "name": "ipython",
    "version": 3
   },
   "file_extension": ".py",
   "mimetype": "text/x-python",
   "name": "python",
   "nbconvert_exporter": "python",
   "pygments_lexer": "ipython3",
   "version": "3.10.9"
  }
 },
 "nbformat": 4,
 "nbformat_minor": 5
}
