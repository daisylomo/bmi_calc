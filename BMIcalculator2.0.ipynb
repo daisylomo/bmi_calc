{
 "cells": [
  {
   "cell_type": "code",
   "execution_count": 9,
   "id": "e2b9aa5a",
   "metadata": {},
   "outputs": [],
   "source": [
    "name1 = \"Daisy Lomo\"\n",
    "height1 = 1.57\n",
    "weight1 = 45\n",
    "\n",
    "name2 = \"Sonia Lomo\"\n",
    "height2 = 1.6\n",
    "weight2 = 56\n",
    "\n",
    "name3 = \"Sharon Lomo\"\n",
    "height3 = 1.7\n",
    "weight3 = 50"
   ]
  },
  {
   "cell_type": "code",
   "execution_count": 2,
   "id": "98ef05e6",
   "metadata": {},
   "outputs": [
    {
     "data": {
      "text/plain": [
       "<function __main__.bmi_calculator(name, height, weight)>"
      ]
     },
     "execution_count": 2,
     "metadata": {},
     "output_type": "execute_result"
    }
   ],
   "source": [
    "def bmi_calculator(name, height, weight):\n",
    "    bmi = weight / height ** 2\n",
    "    print(\"bmi is: \")\n",
    "    print(bmi)\n",
    "    if bmi < 25:\n",
    "        return name + \" is definitely not overweight\"\n",
    "    else:\n",
    "        return name + \" is very much overweight\""
   ]
  },
  {
   "cell_type": "code",
   "execution_count": 18,
   "id": "d9cfcb93",
   "metadata": {},
   "outputs": [
    {
     "name": "stdout",
     "output_type": "stream",
     "text": [
      "bmi is: \n",
      "18.25631871475516\n",
      "bmi is: \n",
      "21.874999999999996\n",
      "bmi is: \n",
      "17.301038062283737\n"
     ]
    }
   ],
   "source": [
    "result1 = bmi_calculator(name1, height1, weight1)\n",
    "result2 = bmi_calculator(name2, height2, weight2)\n",
    "result3 = bmi_calculator(name3, height3, weight3)"
   ]
  },
  {
   "cell_type": "code",
   "execution_count": null,
   "id": "0860b1e5",
   "metadata": {},
   "outputs": [],
   "source": [
    "print(result1)\n",
    "print(result2)\n",
    "print(result3)"
   ]
  },
  {
   "cell_type": "code",
   "execution_count": 1,
   "id": "72cf41af",
   "metadata": {},
   "outputs": [
    {
     "name": "stdout",
     "output_type": "stream",
     "text": [
      "This is a new line to test out git\n"
     ]
    }
   ],
   "source": [
    "#this is a new line to test out git\n",
    "print(\"This is a new line to test out git\")"
   ]
  }
 ],
 "metadata": {
  "kernelspec": {
   "display_name": "base",
   "language": "python",
   "name": "python3"
  },
  "language_info": {
   "codemirror_mode": {
    "name": "ipython",
    "version": 3
   },
   "file_extension": ".py",
   "mimetype": "text/x-python",
   "name": "python",
   "nbconvert_exporter": "python",
   "pygments_lexer": "ipython3",
   "version": "3.12.4"
  }
 },
 "nbformat": 4,
 "nbformat_minor": 5
}
